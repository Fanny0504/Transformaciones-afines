{
 "cells": [
  {
   "cell_type": "markdown",
   "id": "6290a1c9",
   "metadata": {},
   "source": [
    "# Fórmula General de Transformación Afín en 2D\n",
    "\n",
    "\\[\n",
    "$\n",
    "\\begin{bmatrix}\n",
    "x' \\\\\n",
    "y'\n",
    "\\end{bmatrix}$ = $\\begin{bmatrix}\n",
    "a & b \\\\\n",
    "c & d\n",
    "\\end{bmatrix}$\n",
    "$\\begin{bmatrix}\n",
    "x \\\\\n",
    "y\n",
    "\\end{bmatrix}$ + $\\begin{bmatrix}\n",
    "e \\\\\n",
    "f\n",
    "\\end{bmatrix}$\n",
    "\\]\n"
   ]
  },
  {
   "cell_type": "code",
   "execution_count": 5,
   "id": "00cefc89",
   "metadata": {},
   "outputs": [
    {
     "name": "stdout",
     "output_type": "stream",
     "text": [
      "Paso 1 - Multiplicación de matriz lineal por punto:\n",
      "[[5 6]\n",
      " [3 2]] @ [2 3] = [28 12]\n",
      "\n",
      "Paso 2 - Suma del vector de traslación:\n",
      "[28 12] + [4 6] = [32 18]\n"
     ]
    }
   ],
   "source": [
    "import numpy as np  # Importamos la biblioteca NumPy para trabajar con matrices y vectores\n",
    "\n",
    "# Punto original (x, y)\n",
    "punto_original = np.array([2, 3])  # Definimos el punto como un vector columna con coordenadas (2, 3)\n",
    "\n",
    "# Matriz de transformación lineal (rotación, escala, sesgo)\n",
    "matriz_lineal = np.array([[5, 6],  # Primer fila: afecta el eje x\n",
    "                          [3, 2]]) # Segunda fila: afecta el eje y\n",
    "\n",
    "# Vector de traslación (e, f)\n",
    "traslacion = np.array([4, 6])  # Desplazamiento horizontal y vertical\n",
    "\n",
    "# Paso 1: multiplicación matricial\n",
    "producto = matriz_lineal @ punto_original  # Aplicamos la transformación lineal al punto\n",
    "print(\"Paso 1 - Multiplicación de matriz lineal por punto:\")\n",
    "print(f\"{matriz_lineal} @ {punto_original} = {producto}\")  # Mostramos el resultado intermedio\n",
    "\n",
    "# Paso 2: suma de traslación\n",
    "punto_transformado = producto + traslacion  # Sumamos el vector de traslación al resultado anterior\n",
    "print(\"\\nPaso 2 - Suma del vector de traslación:\")\n",
    "print(f\"{producto} + {traslacion} = {punto_transformado}\")  # Mostramos el punto final transformado"
   ]
  },
  {
   "cell_type": "markdown",
   "id": "d2dbc630",
   "metadata": {},
   "source": [
    "# Forma Homogénea de la Transformación Afín en 2D\n",
    "\n",
    "\\[\n",
    "$\\begin{bmatrix}\n",
    "x' \\\\\n",
    "y' \\\\\n",
    "1\n",
    "\\end{bmatrix}$ = $\\begin{bmatrix}\n",
    "a & b & e \\\\\n",
    "c & d & f \\\\\n",
    "0 & 0 & 1\n",
    "\\end{bmatrix}$ $\\begin{bmatrix}\n",
    "x \\\\\n",
    "y \\\\\n",
    "1\n",
    "\\end{bmatrix}$\n",
    "\\]"
   ]
  },
  {
   "cell_type": "code",
   "execution_count": 6,
   "id": "edcf679b",
   "metadata": {},
   "outputs": [
    {
     "name": "stdout",
     "output_type": "stream",
     "text": [
      "\n",
      "Transformación homogénea:\n",
      "[[5 6 4]\n",
      " [3 2 6]\n",
      " [0 0 1]] @ [2 3 1] = [32 18  1]\n"
     ]
    }
   ],
   "source": [
    "# Punto original en coordenadas homogéneas\n",
    "punto_homogeneo = np.array([2, 3, 1])  # Agregamos el 1 para permitir la traslación como multiplicación\n",
    "\n",
    "# Matriz afín homogénea\n",
    "matriz_homogenea = np.array([[5, 6, 4],    # Primera fila: transformación + traslación en x\n",
    "                             [3, 2, 6],   # Segunda fila: transformación + traslación en y\n",
    "                             [0,   0,   1]])   # Tercera fila fija para mantener coordenadas homogéneas\n",
    "\n",
    "# Paso único: multiplicación matricial\n",
    "punto_transformado_h = matriz_homogenea @ punto_homogeneo  # Aplicamos la transformación completa\n",
    "print(\"\\nTransformación homogénea:\")\n",
    "print(f\"{matriz_homogenea} @ {punto_homogeneo} = {punto_transformado_h}\")  # Mostramos el resultado final"
   ]
  }
 ],
 "metadata": {
  "kernelspec": {
   "display_name": "Python 3",
   "language": "python",
   "name": "python3"
  },
  "language_info": {
   "codemirror_mode": {
    "name": "ipython",
    "version": 3
   },
   "file_extension": ".py",
   "mimetype": "text/x-python",
   "name": "python",
   "nbconvert_exporter": "python",
   "pygments_lexer": "ipython3",
   "version": "3.13.1"
  }
 },
 "nbformat": 4,
 "nbformat_minor": 5
}
